{
 "cells": [
  {
   "cell_type": "code",
   "execution_count": 5,
   "metadata": {},
   "outputs": [],
   "source": [
    "import pandas as pd\n",
    "import numpy as np\n",
    "import matplotlib.pyplot as plt\n",
    "import os"
   ]
  },
  {
   "cell_type": "code",
   "execution_count": 6,
   "metadata": {},
   "outputs": [
    {
     "name": "stderr",
     "output_type": "stream",
     "text": [
      "C:\\Users\\Mohand\\AppData\\Local\\Temp\\ipykernel_9132\\2658379957.py:5: FutureWarning: The frame.append method is deprecated and will be removed from pandas in a future version. Use pandas.concat instead.\n",
      "  all_data=all_data.append(pd.read_csv(file))\n",
      "C:\\Users\\Mohand\\AppData\\Local\\Temp\\ipykernel_9132\\2658379957.py:5: FutureWarning: The frame.append method is deprecated and will be removed from pandas in a future version. Use pandas.concat instead.\n",
      "  all_data=all_data.append(pd.read_csv(file))\n",
      "C:\\Users\\Mohand\\AppData\\Local\\Temp\\ipykernel_9132\\2658379957.py:5: FutureWarning: The frame.append method is deprecated and will be removed from pandas in a future version. Use pandas.concat instead.\n",
      "  all_data=all_data.append(pd.read_csv(file))\n",
      "C:\\Users\\Mohand\\AppData\\Local\\Temp\\ipykernel_9132\\2658379957.py:5: FutureWarning: The frame.append method is deprecated and will be removed from pandas in a future version. Use pandas.concat instead.\n",
      "  all_data=all_data.append(pd.read_csv(file))\n",
      "C:\\Users\\Mohand\\AppData\\Local\\Temp\\ipykernel_9132\\2658379957.py:5: FutureWarning: The frame.append method is deprecated and will be removed from pandas in a future version. Use pandas.concat instead.\n",
      "  all_data=all_data.append(pd.read_csv(file))\n"
     ]
    }
   ],
   "source": [
    "os.chdir('C:\\\\Users\\\\Mohand\\\\Dataset\\\\Serial Killers Dataset')\n",
    "all_data=pd.DataFrame()\n",
    "for file in os.listdir(os.getcwd()):\n",
    "    if file.endswith('.csv'):\n",
    "        all_data=all_data.append(pd.read_csv(file))\n",
    "all_data.to_csv('all_data.csv')\n",
    "\n"
   ]
  },
  {
   "cell_type": "code",
   "execution_count": 8,
   "metadata": {},
   "outputs": [
    {
     "data": {
      "text/html": [
       "<div>\n",
       "<style scoped>\n",
       "    .dataframe tbody tr th:only-of-type {\n",
       "        vertical-align: middle;\n",
       "    }\n",
       "\n",
       "    .dataframe tbody tr th {\n",
       "        vertical-align: top;\n",
       "    }\n",
       "\n",
       "    .dataframe thead th {\n",
       "        text-align: right;\n",
       "    }\n",
       "</style>\n",
       "<table border=\"1\" class=\"dataframe\">\n",
       "  <thead>\n",
       "    <tr style=\"text-align: right;\">\n",
       "      <th></th>\n",
       "      <th>Name</th>\n",
       "      <th>Country</th>\n",
       "      <th>Years active</th>\n",
       "      <th>Proven victims</th>\n",
       "      <th>Possible victims</th>\n",
       "      <th>Notes</th>\n",
       "      <th>Unnamed: 0.1</th>\n",
       "      <th>Unnamed: 0</th>\n",
       "    </tr>\n",
       "  </thead>\n",
       "  <tbody>\n",
       "    <tr>\n",
       "      <th>0</th>\n",
       "      <td>Karl Denke</td>\n",
       "      <td>Germany</td>\n",
       "      <td>1900 to 1924</td>\n",
       "      <td>30</td>\n",
       "      <td>42+</td>\n",
       "      <td>Killed and cannibalized poor travelers and hom...</td>\n",
       "      <td>NaN</td>\n",
       "      <td>NaN</td>\n",
       "    </tr>\n",
       "    <tr>\n",
       "      <th>1</th>\n",
       "      <td>Francisco das Chagas Rodrigues de Brito</td>\n",
       "      <td>Brazil</td>\n",
       "      <td>1989 to 2003</td>\n",
       "      <td>30</td>\n",
       "      <td>42</td>\n",
       "      <td>Pedophile who sexually abused, murdered and mu...</td>\n",
       "      <td>NaN</td>\n",
       "      <td>NaN</td>\n",
       "    </tr>\n",
       "    <tr>\n",
       "      <th>2</th>\n",
       "      <td>Luis Gregorio Ramírez Maestre</td>\n",
       "      <td>Colombia</td>\n",
       "      <td>2010 to 2013</td>\n",
       "      <td>30</td>\n",
       "      <td>30</td>\n",
       "      <td>Killed motorists in various municipalities bef...</td>\n",
       "      <td>NaN</td>\n",
       "      <td>NaN</td>\n",
       "    </tr>\n",
       "    <tr>\n",
       "      <th>3</th>\n",
       "      <td>David Thabo Simelane</td>\n",
       "      <td>Swaziland</td>\n",
       "      <td>2000 to 2001</td>\n",
       "      <td>28</td>\n",
       "      <td>45</td>\n",
       "      <td>Sexually assaulted women he befriended in fore...</td>\n",
       "      <td>NaN</td>\n",
       "      <td>NaN</td>\n",
       "    </tr>\n",
       "    <tr>\n",
       "      <th>4</th>\n",
       "      <td>Zhang Jun</td>\n",
       "      <td>China</td>\n",
       "      <td>1993 to 2000</td>\n",
       "      <td>28</td>\n",
       "      <td>28</td>\n",
       "      <td>Robbed 22 stores in several Chinese provinces,...</td>\n",
       "      <td>NaN</td>\n",
       "      <td>NaN</td>\n",
       "    </tr>\n",
       "  </tbody>\n",
       "</table>\n",
       "</div>"
      ],
      "text/plain": [
       "                                      Name    Country  Years active  \\\n",
       "0                               Karl Denke    Germany  1900 to 1924   \n",
       "1  Francisco das Chagas Rodrigues de Brito     Brazil  1989 to 2003   \n",
       "2            Luis Gregorio Ramírez Maestre   Colombia  2010 to 2013   \n",
       "3                     David Thabo Simelane  Swaziland  2000 to 2001   \n",
       "4                                Zhang Jun      China  1993 to 2000   \n",
       "\n",
       "  Proven victims Possible victims  \\\n",
       "0             30              42+   \n",
       "1             30               42   \n",
       "2             30               30   \n",
       "3             28               45   \n",
       "4             28               28   \n",
       "\n",
       "                                               Notes  Unnamed: 0.1  Unnamed: 0  \n",
       "0  Killed and cannibalized poor travelers and hom...           NaN         NaN  \n",
       "1  Pedophile who sexually abused, murdered and mu...           NaN         NaN  \n",
       "2  Killed motorists in various municipalities bef...           NaN         NaN  \n",
       "3  Sexually assaulted women he befriended in fore...           NaN         NaN  \n",
       "4  Robbed 22 stores in several Chinese provinces,...           NaN         NaN  "
      ]
     },
     "execution_count": 8,
     "metadata": {},
     "output_type": "execute_result"
    }
   ],
   "source": [
    "all_data.head()\n"
   ]
  },
  {
   "cell_type": "code",
   "execution_count": 12,
   "metadata": {},
   "outputs": [
    {
     "data": {
      "text/plain": [
       "(305, 6)"
      ]
     },
     "execution_count": 12,
     "metadata": {},
     "output_type": "execute_result"
    }
   ],
   "source": [
    "all_data.shape\n"
   ]
  },
  {
   "cell_type": "code",
   "execution_count": 13,
   "metadata": {},
   "outputs": [
    {
     "data": {
      "text/plain": [
       "Name                 0\n",
       "Country              0\n",
       "Years active         0\n",
       "Proven victims       0\n",
       "Possible victims    68\n",
       "Notes                0\n",
       "dtype: int64"
      ]
     },
     "execution_count": 13,
     "metadata": {},
     "output_type": "execute_result"
    }
   ],
   "source": [
    "all_data.isna().sum()"
   ]
  },
  {
   "cell_type": "markdown",
   "metadata": {},
   "source": [
    "Visualising the number of serial killers per country\n"
   ]
  },
  {
   "cell_type": "code",
   "execution_count": null,
   "metadata": {},
   "outputs": [
    {
     "data": {
      "text/plain": [
       "United States     92\n",
       "Russia            21\n",
       "South Africa      19\n",
       "Soviet Union      13\n",
       "United Kingdom    12\n",
       "India             10\n",
       "China              9\n",
       "Brazil             8\n",
       "Italy              6\n",
       "France             6\n",
       "Name: Country, dtype: int64"
      ]
     },
     "execution_count": 14,
     "metadata": {},
     "output_type": "execute_result"
    }
   ],
   "source": [
    "all_data['Country'].value_counts().head(10)"
   ]
  },
  {
   "cell_type": "code",
   "execution_count": 19,
   "metadata": {},
   "outputs": [
    {
     "data": {
      "image/png": "[encoded data removed]",
      "text/plain": [
       "<Figure size 432x288 with 1 Axes>"
      ]
     },
     "metadata": {},
     "output_type": "display_data"
    }
   ],
   "source": [
    "all_data['Country'].value_counts().head(10).plot.bar(facecolor='r',edgecolor ='g')\n",
    "plt.style.use('ggplot')"
   ]
  },
  {
   "cell_type": "code",
   "execution_count": 20,
   "metadata": {},
   "outputs": [
    {
     "data": {
      "text/html": [
       "<div>\n",
       "<style scoped>\n",
       "    .dataframe tbody tr th:only-of-type {\n",
       "        vertical-align: middle;\n",
       "    }\n",
       "\n",
       "    .dataframe tbody tr th {\n",
       "        vertical-align: top;\n",
       "    }\n",
       "\n",
       "    .dataframe thead th {\n",
       "        text-align: right;\n",
       "    }\n",
       "</style>\n",
       "<table border=\"1\" class=\"dataframe\">\n",
       "  <thead>\n",
       "    <tr style=\"text-align: right;\">\n",
       "      <th></th>\n",
       "      <th>Name</th>\n",
       "      <th>Country</th>\n",
       "      <th>Years active</th>\n",
       "      <th>Proven victims</th>\n",
       "      <th>Possible victims</th>\n",
       "      <th>Notes</th>\n",
       "    </tr>\n",
       "  </thead>\n",
       "  <tbody>\n",
       "    <tr>\n",
       "      <th>0</th>\n",
       "      <td>Karl Denke</td>\n",
       "      <td>Germany</td>\n",
       "      <td>1900 to 1924</td>\n",
       "      <td>30</td>\n",
       "      <td>42+</td>\n",
       "      <td>Killed and cannibalized poor travelers and hom...</td>\n",
       "    </tr>\n",
       "    <tr>\n",
       "      <th>1</th>\n",
       "      <td>Francisco das Chagas Rodrigues de Brito</td>\n",
       "      <td>Brazil</td>\n",
       "      <td>1989 to 2003</td>\n",
       "      <td>30</td>\n",
       "      <td>42</td>\n",
       "      <td>Pedophile who sexually abused, murdered and mu...</td>\n",
       "    </tr>\n",
       "    <tr>\n",
       "      <th>2</th>\n",
       "      <td>Luis Gregorio Ramírez Maestre</td>\n",
       "      <td>Colombia</td>\n",
       "      <td>2010 to 2013</td>\n",
       "      <td>30</td>\n",
       "      <td>30</td>\n",
       "      <td>Killed motorists in various municipalities bef...</td>\n",
       "    </tr>\n",
       "    <tr>\n",
       "      <th>3</th>\n",
       "      <td>David Thabo Simelane</td>\n",
       "      <td>Swaziland</td>\n",
       "      <td>2000 to 2001</td>\n",
       "      <td>28</td>\n",
       "      <td>45</td>\n",
       "      <td>Sexually assaulted women he befriended in fore...</td>\n",
       "    </tr>\n",
       "    <tr>\n",
       "      <th>4</th>\n",
       "      <td>Zhang Jun</td>\n",
       "      <td>China</td>\n",
       "      <td>1993 to 2000</td>\n",
       "      <td>28</td>\n",
       "      <td>28</td>\n",
       "      <td>Robbed 22 stores in several Chinese provinces,...</td>\n",
       "    </tr>\n",
       "  </tbody>\n",
       "</table>\n",
       "</div>"
      ],
      "text/plain": [
       "                                      Name    Country  Years active  \\\n",
       "0                               Karl Denke    Germany  1900 to 1924   \n",
       "1  Francisco das Chagas Rodrigues de Brito     Brazil  1989 to 2003   \n",
       "2            Luis Gregorio Ramírez Maestre   Colombia  2010 to 2013   \n",
       "3                     David Thabo Simelane  Swaziland  2000 to 2001   \n",
       "4                                Zhang Jun      China  1993 to 2000   \n",
       "\n",
       "  Proven victims Possible victims  \\\n",
       "0             30              42+   \n",
       "1             30               42   \n",
       "2             30               30   \n",
       "3             28               45   \n",
       "4             28               28   \n",
       "\n",
       "                                               Notes  \n",
       "0  Killed and cannibalized poor travelers and hom...  \n",
       "1  Pedophile who sexually abused, murdered and mu...  \n",
       "2  Killed motorists in various municipalities bef...  \n",
       "3  Sexually assaulted women he befriended in fore...  \n",
       "4  Robbed 22 stores in several Chinese provinces,...  "
      ]
     },
     "execution_count": 20,
     "metadata": {},
     "output_type": "execute_result"
    }
   ],
   "source": [
    "all_data.head()"
   ]
  },
  {
   "cell_type": "markdown",
   "metadata": {},
   "source": [
    "Split Years active to 2 columns with regex\n"
   ]
  },
  {
   "cell_type": "code",
   "execution_count": null,
   "metadata": {},
   "outputs": [],
   "source": [
    "def get_start_year(address):\n",
    "    return address.split(\",\")[1].strip(\" \")"
   ]
  },
  {
   "cell_type": "code",
   "execution_count": null,
   "metadata": {},
   "outputs": [],
   "source": [
    "s=all_data['Years active'].str.split(pat='to',n=1,expand=True)\n",
    "all_data['Start year']=s[0]\n",
    "\n",
    "all_data['End year']=s[1]"
   ]
  },
  {
   "cell_type": "code",
   "execution_count": 37,
   "metadata": {},
   "outputs": [
    {
     "data": {
      "text/html": [
       "<div>\n",
       "<style scoped>\n",
       "    .dataframe tbody tr th:only-of-type {\n",
       "        vertical-align: middle;\n",
       "    }\n",
       "\n",
       "    .dataframe tbody tr th {\n",
       "        vertical-align: top;\n",
       "    }\n",
       "\n",
       "    .dataframe thead th {\n",
       "        text-align: right;\n",
       "    }\n",
       "</style>\n",
       "<table border=\"1\" class=\"dataframe\">\n",
       "  <thead>\n",
       "    <tr style=\"text-align: right;\">\n",
       "      <th></th>\n",
       "      <th>Name</th>\n",
       "      <th>Country</th>\n",
       "      <th>Proven victims</th>\n",
       "      <th>Possible victims</th>\n",
       "      <th>Notes</th>\n",
       "      <th>Start year</th>\n",
       "      <th>End year</th>\n",
       "    </tr>\n",
       "  </thead>\n",
       "  <tbody>\n",
       "    <tr>\n",
       "      <th>0</th>\n",
       "      <td>Karl Denke</td>\n",
       "      <td>Germany</td>\n",
       "      <td>30</td>\n",
       "      <td>42+</td>\n",
       "      <td>Killed and cannibalized poor travelers and hom...</td>\n",
       "      <td>1900</td>\n",
       "      <td>1924</td>\n",
       "    </tr>\n",
       "    <tr>\n",
       "      <th>1</th>\n",
       "      <td>Francisco das Chagas Rodrigues de Brito</td>\n",
       "      <td>Brazil</td>\n",
       "      <td>30</td>\n",
       "      <td>42</td>\n",
       "      <td>Pedophile who sexually abused, murdered and mu...</td>\n",
       "      <td>1989</td>\n",
       "      <td>2003</td>\n",
       "    </tr>\n",
       "    <tr>\n",
       "      <th>2</th>\n",
       "      <td>Luis Gregorio Ramírez Maestre</td>\n",
       "      <td>Colombia</td>\n",
       "      <td>30</td>\n",
       "      <td>30</td>\n",
       "      <td>Killed motorists in various municipalities bef...</td>\n",
       "      <td>2010</td>\n",
       "      <td>2013</td>\n",
       "    </tr>\n",
       "    <tr>\n",
       "      <th>3</th>\n",
       "      <td>David Thabo Simelane</td>\n",
       "      <td>Swaziland</td>\n",
       "      <td>28</td>\n",
       "      <td>45</td>\n",
       "      <td>Sexually assaulted women he befriended in fore...</td>\n",
       "      <td>2000</td>\n",
       "      <td>2001</td>\n",
       "    </tr>\n",
       "    <tr>\n",
       "      <th>4</th>\n",
       "      <td>Zhang Jun</td>\n",
       "      <td>China</td>\n",
       "      <td>28</td>\n",
       "      <td>28</td>\n",
       "      <td>Robbed 22 stores in several Chinese provinces,...</td>\n",
       "      <td>1993</td>\n",
       "      <td>2000</td>\n",
       "    </tr>\n",
       "  </tbody>\n",
       "</table>\n",
       "</div>"
      ],
      "text/plain": [
       "                                      Name    Country Proven victims  \\\n",
       "0                               Karl Denke    Germany             30   \n",
       "1  Francisco das Chagas Rodrigues de Brito     Brazil             30   \n",
       "2            Luis Gregorio Ramírez Maestre   Colombia             30   \n",
       "3                     David Thabo Simelane  Swaziland             28   \n",
       "4                                Zhang Jun      China             28   \n",
       "\n",
       "  Possible victims                                              Notes  \\\n",
       "0              42+  Killed and cannibalized poor travelers and hom...   \n",
       "1               42  Pedophile who sexually abused, murdered and mu...   \n",
       "2               30  Killed motorists in various municipalities bef...   \n",
       "3               45  Sexually assaulted women he befriended in fore...   \n",
       "4               28  Robbed 22 stores in several Chinese provinces,...   \n",
       "\n",
       "  Start year End year  \n",
       "0      1900      1924  \n",
       "1      1989      2003  \n",
       "2      2010      2013  \n",
       "3      2000      2001  \n",
       "4      1993      2000  "
      ]
     },
     "execution_count": 37,
     "metadata": {},
     "output_type": "execute_result"
    }
   ],
   "source": [
    "all_data=all_data.drop(columns='Years active')\n",
    "all_data.head()\n",
    "\n"
   ]
  },
  {
   "cell_type": "code",
   "execution_count": null,
   "metadata": {},
   "outputs": [],
   "source": [
    "s=all_data['Years active'].str.split(pat='to',n=1,expand=True)\n",
    "all_data['Start year']=s[0]\n",
    "\n",
    "all_data['End year']=s[1]"
   ]
  },
  {
   "cell_type": "code",
   "execution_count": null,
   "metadata": {},
   "outputs": [],
   "source": []
  },
  {
   "cell_type": "code",
   "execution_count": null,
   "metadata": {},
   "outputs": [],
   "source": []
  },
  {
   "cell_type": "code",
   "execution_count": null,
   "metadata": {},
   "outputs": [],
   "source": []
  },
  {
   "cell_type": "code",
   "execution_count": null,
   "metadata": {},
   "outputs": [],
   "source": []
  }
 ],
 "metadata": {
  "kernelspec": {
   "display_name": "Python 3.9.13 64-bit (windows store)",
   "language": "python",
   "name": "python3"
  },
  "language_info": {
   "codemirror_mode": {
    "name": "ipython",
    "version": 3
   },
   "file_extension": ".py",
   "mimetype": "text/x-python",
   "name": "python",
   "nbconvert_exporter": "python",
   "pygments_lexer": "ipython3",
   "version": "3.9.13"
  },
  "orig_nbformat": 4,
  "vscode": {
   "interpreter": {
    "hash": "6f8ff5869055e1439936a58c3b27c4a48fd6fa94015ea55acdb785b9c76781b4"
   }
  }
 },
 "nbformat": 4,
 "nbformat_minor": 2
}
